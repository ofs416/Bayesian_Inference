{
  "cells": [
    {
      "cell_type": "markdown",
      "metadata": {
        "id": "kU3QIoW8i1hN"
      },
      "source": [
        "This is the auxiliary code for the 3F8 coursework. Some parts are missing and should be completed by the student. These are Marked with XXX\n",
        "\n",
        "**Note that your changes will not be saved unless you click the \"Copy to Drive\" button above!**"
      ]
    },
    {
      "cell_type": "code",
      "execution_count": 123,
      "metadata": {
        "id": "kaHsJIOviyFq"
      },
      "outputs": [],
      "source": [
        "# We load the data\n",
        "\n",
        "import numpy as np\n",
        "\n",
        "X = np.loadtxt('X.txt')\n",
        "y = np.loadtxt('y.txt')\n",
        "\n",
        "# We randomly permute the data\n",
        "\n",
        "permutation = np.random.permutation(X.shape[ 0 ])\n",
        "X = X[ permutation, : ]\n",
        "y = y[ permutation ]"
      ]
    },
    {
      "cell_type": "code",
      "execution_count": 124,
      "metadata": {
        "id": "w2_O3851i8ZA"
      },
      "outputs": [],
      "source": [
        "# We plot the data\n",
        "\n",
        "import matplotlib.pyplot as plt\n",
        "\n",
        "##\n",
        "# Function that plots the points in 2D together with their labels\n",
        "#\n",
        "# Inputs:\n",
        "#\n",
        "# X: 2d array with the input features\n",
        "# y: 1d array with the class labels (0 or 1)\n",
        "#\n",
        "# Output: 2D matrices with the x and y coordinates of the points shown in the plot\n",
        "#\n",
        "\n",
        "def plot_data_internal(X, y):\n",
        "    x_min, x_max = X[ :, 0 ].min() - .5, X[ :, 0 ].max() + .5\n",
        "    y_min, y_max = X[ :, 1 ].min() - .5, X[ :, 1 ].max() + .5\n",
        "    xx, yy = np.meshgrid(np.linspace(x_min, x_max, 100), np.linspace(y_min, y_max, 100))\n",
        "    plt.figure()\n",
        "    plt.xlim(xx.min(None), xx.max(None))\n",
        "    plt.ylim(yy.min(None), yy.max(None))\n",
        "    ax = plt.gca()\n",
        "    ax.plot(X[y == 0, 0], X[y == 0, 1], 'ro', label = 'Class 1')\n",
        "    ax.plot(X[y == 1, 0], X[y == 1, 1], 'bo', label = 'Class 2')\n",
        "    plt.xlabel('X1')\n",
        "    plt.ylabel('X2')\n",
        "    plt.title('Plot data')\n",
        "    plt.legend(loc = 'upper left', scatterpoints = 1, numpoints = 1)\n",
        "    return xx, yy\n",
        "\n",
        "##\n",
        "# Function that plots the data without returning anything by calling \"plot_data_internal\".\n",
        "#\n",
        "# Input:\n",
        "#\n",
        "# X: 2d array with the input features\n",
        "# y: 1d array with the class labels (0 or 1)\n",
        "#\n",
        "# Output: Nothing.\n",
        "#\n",
        "\n",
        "def plot_data(X, y):\n",
        "    xx, yy = plot_data_internal(X, y)\n",
        "    plt.show()"
      ]
    },
    {
      "cell_type": "code",
      "execution_count": 125,
      "metadata": {
        "id": "EtI5ODq3jxPT"
      },
      "outputs": [
        {
          "data": {
            "image/png": "[encoded data removed]",
            "text/plain": [
              "<Figure size 432x288 with 1 Axes>"
            ]
          },
          "metadata": {
            "needs_background": "light"
          },
          "output_type": "display_data"
        }
      ],
      "source": [
        "plot_data(X, y)"
      ]
    },
    {
      "cell_type": "code",
      "execution_count": 126,
      "metadata": {
        "id": "vyVkK6epj0hY"
      },
      "outputs": [],
      "source": [
        "# We split the data into train and test sets\n",
        "\n",
        "n_train = 800\n",
        "X_train = X[ 0 : n_train, : ]\n",
        "X_test = X[ n_train :, : ]\n",
        "y_train = y[ 0 : n_train ]\n",
        "y_test = y[ n_train : ]"
      ]
    },
    {
      "cell_type": "code",
      "execution_count": 127,
      "metadata": {
        "id": "e99TSgEVj4Ix"
      },
      "outputs": [],
      "source": [
        "# The logistic function\n",
        "\n",
        "def logistic(x): return 1.0 / (1.0 + np.exp(-x))\n",
        "\n",
        "##\n",
        "# Function that makes predictions with a logistic classifier\n",
        "#\n",
        "# Input:\n",
        "#\n",
        "# X_tile: matrix of input features (with a constant 1 appended to the left) \n",
        "#         for which to make predictions\n",
        "# w: vector of model parameters\n",
        "#\n",
        "# Output: The predictions of the logistic classifier\n",
        "#\n",
        "\n",
        "def predict(X_tilde, w): return logistic(np.dot(X_tilde, w))\n",
        "\n",
        "##\n",
        "# Function that computes the average loglikelihood of the logistic classifier on some data.\n",
        "#\n",
        "# Input:\n",
        "#\n",
        "# X_tile: matrix of input features (with a constant 1 appended to the left) \n",
        "#         for which to make predictions\n",
        "# y: vector of binary output labels \n",
        "# w: vector of model parameters\n",
        "#\n",
        "# Output: The average loglikelihood\n",
        "#\n",
        "\n",
        "def compute_average_ll(X_tilde, y, w):\n",
        "    output_prob = predict(X_tilde, w)\n",
        "    return np.mean(y * np.log(output_prob) + (1 - y) * np.log(1.0 - output_prob))\n",
        "\n",
        "##\n",
        "# Function that expands a matrix of input features by adding a column equal to 1.\n",
        "#\n",
        "# Input:\n",
        "#\n",
        "# X: matrix of input features.\n",
        "#\n",
        "# Output: Matrix x_tilde with one additional constant column equal to 1 added.\n",
        "#\n",
        "\n",
        "def get_x_tilde(X): return np.concatenate((np.ones((X.shape[ 0 ], 1 )), X), 1)"
      ]
    },
    {
      "cell_type": "code",
      "execution_count": 128,
      "metadata": {
        "id": "ZGPVminrkBOj"
      },
      "outputs": [],
      "source": [
        "##\n",
        "# Function that finds the model parameters by optimising the likelihood using gradient descent\n",
        "#\n",
        "# Input:\n",
        "#\n",
        "# X_tile_train: matrix of training input features (with a constant 1 appended to the left) \n",
        "# y_train: vector of training binary output labels \n",
        "# X_tile_test: matrix of test input features (with a constant 1 appended to the left) \n",
        "# y_test: vector of test binary output labels \n",
        "# alpha: step_size_parameter for the gradient based optimisation\n",
        "# n_steps: the number of steps of gradient based optimisation\n",
        "#\n",
        "# Output: \n",
        "# \n",
        "# 1 - Vector of model parameters w \n",
        "# 2 - Vector with average log-likelihood values obtained on the training set\n",
        "# 3 - Vector with average log-likelihood values obtained on the test set\n",
        "#\n",
        "\n",
        "def fit_w(X_tilde_train, y_train, X_tilde_test, y_test, n_steps, alpha):\n",
        "    w = np.random.randn(X_tilde_train.shape[ 1 ])\n",
        "    ll_train = np.zeros(n_steps)\n",
        "    ll_test = np.zeros(n_steps)\n",
        "    for i in range(n_steps):\n",
        "        sigmoid_value = predict(X_tilde_train, w)\n",
        "        \n",
        "        dl_dw = np.matmul((y_train - sigmoid_value).T, X_tilde_train)\n",
        "        w += alpha*dl_dw # XXX Gradient-based update rule for w. To be completed by the student\n",
        "\n",
        "        ll_train[ i ] = compute_average_ll(X_tilde_train, y_train, w)\n",
        "        ll_test[ i ] = compute_average_ll(X_tilde_test, y_test, w)\n",
        "        print(ll_train[ i ], ll_test[ i ])\n",
        "\n",
        "    return w, ll_train, ll_test"
      ]
    },
    {
      "cell_type": "code",
      "execution_count": 129,
      "metadata": {
        "id": "G4NIZwbSkF-2"
      },
      "outputs": [
        {
          "name": "stdout",
          "output_type": "stream",
          "text": [
            "-1.0592490715261222 -0.9385959038193218\n",
            "-0.9650486262200793 -0.8683041074995924\n",
            "-0.8871927455101922 -0.8114467319208742\n",
            "-0.8242854266540689 -0.7665672317592248\n",
            "-0.7746439343851611 -0.7321297119933354\n",
            "-0.73629288240814 -0.7064436716243705\n",
            "-0.7071313927358425 -0.6877612219910358\n",
            "-0.685166259315383 -0.6744519026746285\n",
            "-0.668681642410213 -0.6651336879806321\n",
            "-0.6563013985738558 -0.6587165692091353\n",
            "-0.646971332523773 -0.654380833734299\n",
            "-0.6399049711200836 -0.6515271783442736\n",
            "-0.6345230715148269 -0.649723838266086\n",
            "-0.6304007318226269 -0.6486616702357862\n",
            "-0.6272258420524254 -0.6481196210187353\n",
            "-0.6247681246940187 -0.6479394593655105\n",
            "-0.6228566531550804 -0.6480077190622333\n",
            "-0.6213637032189532 -0.6482429176600835\n",
            "-0.6201931810036494 -0.6485865237566512\n",
            "-0.6192723095267776 -0.6489965552194092\n",
            "-0.6185456247383453 -0.6494430184931229\n",
            "-0.6179706102312471 -0.6499046392088161\n",
            "-0.6175144998953738 -0.6503665031902126\n",
            "-0.6171519182971038 -0.6508183436073309\n",
            "-0.6168631263237675 -0.6512532900890758\n",
            "-0.6166327075075492 -0.6516669505646981\n",
            "-0.6164485776834031 -0.6520567344801412\n",
            "-0.6163012336790217 -0.6524213523004285\n",
            "-0.6161831799990052 -0.6527604445572979\n",
            "-0.6160884889648437 -0.6530743066207013\n",
            "-0.6160124615647021 -0.6533636845437651\n",
            "-0.6159513647612532 -0.6536296238933376\n",
            "-0.6159022271718186 -0.6538733582109356\n",
            "-0.6158626795448153 -0.6540962271874318\n",
            "-0.6158308297788656 -0.654299617150705\n",
            "-0.6158051646955546 -0.6544849183184315\n",
            "-0.6157844726172063 -0.6546534946412605\n",
            "-0.6157677821839 -0.6548066630848084\n",
            "-0.6157543138890993 -0.6549456799653015\n",
            "-0.6157434416075368 -0.6550717325304017\n",
            "-0.6157346619957438 -0.6551859344125132\n",
            "-0.6157275701113172 -0.6552893239123061\n",
            "-0.6157218399560763 -0.6553828643215905\n",
            "-0.6157172089262627 -0.655467445686341\n",
            "-0.6157134653689841 -0.6555438875571995\n",
            "-0.6157104386126315 -0.6556129423868654\n",
            "-0.6157079909708743 -0.6556752993196524\n",
            "-0.615706011323354 -0.6557315881842609\n",
            "-0.6157044099576824 -0.655782383551157\n",
            "-0.6157031144216546 -0.655828208754443\n",
            "-0.6157020661854493 -0.6558695398074603\n",
            "-0.6157012179539203 -0.6559068091636702\n",
            "-0.6157005315011095 -0.6559404092912291\n",
            "-0.6156999759246047 -0.6559706960423551\n",
            "-0.6156995262376774 -0.6559979918080129\n",
            "-0.6156991622333614 -0.656022588455393\n",
            "-0.615698867567591 -0.6560447500506867\n",
            "-0.6156986290188997 -0.6560647153732129\n",
            "-0.6156984358904936 -0.6560827002293876\n",
            "-0.6156982795271804 -0.6560988995766138\n",
            "-0.6156981529249959 -0.6561134894680971\n",
            "-0.6156980504156649 -0.6561266288300678\n",
            "-0.6156979674115023 -0.6561384610829789\n",
            "-0.6156979001991347 -0.6561491156181107\n",
            "-0.6156978457726764 -0.6561587091406704\n",
            "-0.6156978016987888 -0.656167346890023\n",
            "-0.6156977660075185 -0.6561751237471444\n",
            "-0.6156977371039756 -0.6561821252388058\n",
            "-0.6156977136968688 -0.6561884284473857\n",
            "-0.6156976947406716 -0.656194102834589\n",
            "-0.6156976793888174 -0.656199210986752\n",
            "-0.6156976669558157 -0.6562038092888152\n",
            "-0.6156976568865894 -0.6562079485334885\n",
            "-0.6156976487316506 -0.6562116744715971\n",
            "-0.6156976421270077 -0.6562150283090861\n",
            "-0.6156976367778971 -0.6562180471556988\n",
            "-0.6156976324456113 -0.656220764429898\n",
            "-0.615697628936836 -0.6562232102241913\n",
            "-0.6156976260950155 -0.656225411634656\n",
            "-0.6156976237933611 -0.6562273930580962\n",
            "-0.6156976219291902 -0.6562291764599624\n",
            "-0.6156976204193421 -0.656230781615865\n",
            "-0.6156976191964657 -0.6562322263292473\n",
            "-0.6156976182060139 -0.656233526627544\n",
            "-0.6156976174038084 -0.6562346969389283\n",
            "-0.615697616754069 -0.6562357502515489\n",
            "-0.615697616227817 -0.6562366982569771\n",
            "-0.6156976158015818 -0.6562375514794162\n",
            "-0.6156976154563537 -0.656238319392079\n",
            "-0.6156976151767369 -0.6562390105219954\n",
            "-0.6156976149502612 -0.6562396325443984\n",
            "-0.615697614766827 -0.656240192367716\n",
            "-0.615697614618254 -0.6562406962101022\n",
            "-0.6156976144979168 -0.6562411496683428\n",
            "-0.6156976144004492 -0.656241557779897\n",
            "-0.6156976143215048 -0.6562419250787525\n",
            "-0.6156976142575634 -0.6562422556457111\n",
            "-0.6156976142057736 -0.6562425531536598\n",
            "-0.6156976141638262 -0.6562428209083216\n",
            "-0.6156976141298505 -0.6562430618849433\n"
          ]
        }
      ],
      "source": [
        "# We train the classifier\n",
        "\n",
        "alpha = 0.001# XXX Learning rate for gradient-based optimisation. To be completed by the student\n",
        "n_steps = 100# XXX Number of steps of gradient-based optimisation. To be completed by the student\n",
        "\n",
        "X_tilde_train = get_x_tilde(X_train)\n",
        "X_tilde_test = get_x_tilde(X_test)\n",
        "w, ll_train, ll_test = fit_w(X_tilde_train, y_train, X_tilde_test, y_test, n_steps, alpha)"
      ]
    },
    {
      "cell_type": "code",
      "execution_count": 130,
      "metadata": {
        "id": "MIInc5nqkNN_"
      },
      "outputs": [],
      "source": [
        "##\n",
        "# Function that plots the average log-likelihood returned by \"fit_w\"\n",
        "#\n",
        "# Input:\n",
        "#\n",
        "# ll: vector with log-likelihood values\n",
        "#\n",
        "# Output: Nothing\n",
        "#\n",
        "\n",
        "def plot_ll(ll):\n",
        "    plt.figure()\n",
        "    ax = plt.gca()\n",
        "    plt.xlim(0, len(ll) + 2)\n",
        "    plt.ylim(min(ll) - 0.1, max(ll) + 0.1)\n",
        "    ax.plot(np.arange(1, len(ll) + 1), ll, 'r-')\n",
        "    plt.xlabel('Steps')\n",
        "    plt.ylabel('Average log-likelihood')\n",
        "    plt.title('Plot Average Log-likelihood Curve')\n",
        "    plt.show()\n"
      ]
    },
    {
      "cell_type": "code",
      "execution_count": 131,
      "metadata": {
        "id": "P9WZfhQZkQyB"
      },
      "outputs": [
        {
          "data": {
            "image/png": "[encoded data removed]",
            "text/plain": [
              "<Figure size 432x288 with 1 Axes>"
            ]
          },
          "metadata": {
            "needs_background": "light"
          },
          "output_type": "display_data"
        },
        {
          "data": {
            "image/png": "[encoded data removed]",
            "text/plain": [
              "<Figure size 432x288 with 1 Axes>"
            ]
          },
          "metadata": {
            "needs_background": "light"
          },
          "output_type": "display_data"
        }
      ],
      "source": [
        "# We plot the training and test log likelihoods\n",
        "\n",
        "plot_ll(ll_train)\n",
        "plot_ll(ll_test)"
      ]
    },
    {
      "cell_type": "code",
      "execution_count": 132,
      "metadata": {
        "id": "ZeNgifPEkTjv"
      },
      "outputs": [],
      "source": [
        "##\n",
        "# Function that plots the predictive probabilities of the logistic classifier\n",
        "#\n",
        "# Input:\n",
        "#\n",
        "# X: 2d array with the input features for the data (without adding a constant column with ones at the beginning)\n",
        "# y: 1d array with the class labels (0 or 1) for the data\n",
        "# w: parameter vector\n",
        "# map_inputs: function that expands the original 2D inputs using basis functions.\n",
        "#\n",
        "# Output: Nothing.\n",
        "#\n",
        "\n",
        "def plot_predictive_distribution(X, y, w, map_inputs = lambda x : x):\n",
        "    xx, yy = plot_data_internal(X, y)\n",
        "    ax = plt.gca()\n",
        "    X_tilde = get_x_tilde(map_inputs(np.concatenate((xx.ravel().reshape((-1, 1)), yy.ravel().reshape((-1, 1))), 1)))\n",
        "    Z = predict(X_tilde, w)\n",
        "    Z = Z.reshape(xx.shape)\n",
        "    cs2 = ax.contour(xx, yy, Z, cmap = 'RdBu', linewidths = 2)\n",
        "    plt.clabel(cs2, fmt = '%2.1f', colors = 'k', fontsize = 14)\n",
        "    plt.show()"
      ]
    },
    {
      "cell_type": "code",
      "execution_count": 133,
      "metadata": {
        "id": "jSeWaE6fkW2X"
      },
      "outputs": [
        {
          "data": {
            "image/png": "[encoded data removed]",
            "text/plain": [
              "<Figure size 432x288 with 1 Axes>"
            ]
          },
          "metadata": {
            "needs_background": "light"
          },
          "output_type": "display_data"
        }
      ],
      "source": [
        "# We plot the predictive distribution\n",
        "\n",
        "plot_predictive_distribution(X, y, w)"
      ]
    },
    {
      "cell_type": "code",
      "execution_count": 134,
      "metadata": {
        "id": "4W_ILVQ-kcSo"
      },
      "outputs": [],
      "source": [
        "##\n",
        "# Function that replaces initial input features by evaluating Gaussian basis functions\n",
        "# on a grid of points\n",
        "#\n",
        "# Inputs:\n",
        "#\n",
        "# l: hyper-parameter for the width of the Gaussian basis functions\n",
        "# Z: location of the Gaussian basis functions\n",
        "# X: points at which to evaluate the basis functions\n",
        "#\n",
        "# Output: Feature matrix with the evaluations of the Gaussian basis functions.\n",
        "#\n",
        "\n",
        "def evaluate_basis_functions(l, X, Z):\n",
        "    X2 = np.sum(X**2, 1)\n",
        "    Z2 = np.sum(Z**2, 1)\n",
        "    ones_Z = np.ones(Z.shape[ 0 ])\n",
        "    ones_X = np.ones(X.shape[ 0 ])\n",
        "    r2 = np.outer(X2, ones_Z) - 2 * np.dot(X, Z.T) + np.outer(ones_X, Z2)\n",
        "    return np.exp(-0.5 / l**2 * r2)"
      ]
    },
    {
      "cell_type": "code",
      "execution_count": 135,
      "metadata": {
        "id": "QvrU2_JckgFj"
      },
      "outputs": [
        {
          "ename": "SyntaxError",
          "evalue": "invalid syntax (2097277388.py, line 3)",
          "output_type": "error",
          "traceback": [
            "\u001b[1;36m  Input \u001b[1;32mIn [135]\u001b[1;36m\u001b[0m\n\u001b[1;33m    l = # XXX Width of the Gaussian basis funcction. To be completed by the student\u001b[0m\n\u001b[1;37m        ^\u001b[0m\n\u001b[1;31mSyntaxError\u001b[0m\u001b[1;31m:\u001b[0m invalid syntax\n"
          ]
        }
      ],
      "source": [
        "# We expand the data\n",
        "\n",
        "l = # XXX Width of the Gaussian basis funcction. To be completed by the student\n",
        "\n",
        "X_tilde_train = get_x_tilde(evaluate_basis_functions(l, X_train, X_train))\n",
        "X_tilde_test = get_x_tilde(evaluate_basis_functions(l, X_test, X_train))"
      ]
    },
    {
      "cell_type": "code",
      "execution_count": null,
      "metadata": {
        "id": "NgdhvtWLkjWd"
      },
      "outputs": [],
      "source": [
        "# We train the new classifier on the feature expanded inputs\n",
        "\n",
        "alpha = # XXX Learning rate for gradient-based optimisation with basis functions. To be completed by the student\n",
        "n_steps = # XXX Number of steps of gradient-based optimisation with basis functions. To be completed by the student\n",
        "\n",
        "w, ll_train, ll_test = fit_w(X_tilde_train, y_train, X_tilde_test, y_test, n_steps, alpha)"
      ]
    },
    {
      "cell_type": "code",
      "execution_count": null,
      "metadata": {
        "id": "PJ-7dmLGkn6C"
      },
      "outputs": [],
      "source": [
        "# We plot the training and test log likelihoods\n",
        "\n",
        "plot_ll(ll_train)\n",
        "plot_ll(ll_test)"
      ]
    },
    {
      "cell_type": "code",
      "execution_count": null,
      "metadata": {
        "id": "gxNi8HlTkr-8"
      },
      "outputs": [],
      "source": [
        "# We plot the predictive distribution\n",
        "\n",
        "plot_predictive_distribution(X, y, w, lambda x : evaluate_basis_functions(l, x, X_train))"
      ]
    }
  ],
  "metadata": {
    "colab": {
      "provenance": []
    },
    "kernelspec": {
      "display_name": "UNI",
      "language": "python",
      "name": "python3"
    },
    "language_info": {
      "codemirror_mode": {
        "name": "ipython",
        "version": 3
      },
      "file_extension": ".py",
      "mimetype": "text/x-python",
      "name": "python",
      "nbconvert_exporter": "python",
      "pygments_lexer": "ipython3",
      "version": "3.9.7"
    },
    "vscode": {
      "interpreter": {
        "hash": "21c4e86f4ae13894c591e841acbbf2838642effdeec384d9e593a77a4c5a6e1e"
      }
    }
  },
  "nbformat": 4,
  "nbformat_minor": 0
}
